{
 "cells": [
  {
   "cell_type": "code",
   "execution_count": 10,
   "metadata": {},
   "outputs": [
    {
     "name": "stdout",
     "output_type": "stream",
     "text": [
      "echo.>test.txt\n"
     ]
    }
   ],
   "source": [
    "# BE SURE TO CHANGE THE API KEY TO YOUR OWN AS WELL AS THE USERNAME (FOUND IN PROMPT) TO THE USER'S USERNAME\n",
    "\n",
    "from openai import OpenAI\n",
    "import subprocess, os\n",
    "from dotenv import load_dotenv\n",
    "load_dotenv()\n",
    "api_key = os.getenv(\"OPENAI_KEY\")\n",
    "client = OpenAI(api_key=api_key)\n",
    "\n",
    "def get_user_input(prompt):\n",
    "    user_input = input(prompt)\n",
    "    return user_input\n",
    "\n",
    "def get_chat_response(prompt):\n",
    "    completion = client.chat.completions.create(\n",
    "        model=\"gpt-3.5-turbo\",\n",
    "        messages=[\n",
    "            {\"role\": \"system\", \"content\": \"You are a computer assistant writing windows command prompt commands for a user in order to create and manipulate existing files. The user is asking you to help them with a few tasks. Make sure to ONLY include the commands in your response and do NOT use markdown (just plain text). Their username is USERNAME use this in your commands when needed. If the user doesn't specify the contents of a file or folder created, assume it will be created empty.\"},\n",
    "            {\"role\": \"user\", \"content\": prompt}\n",
    "        ]\n",
    "    )\n",
    "    response = completion.choices[0].message.content\n",
    "    return response\n",
    "\n",
    "user_input = get_user_input(\"Enter your prompt: \")\n",
    "response = get_chat_response(user_input)\n",
    "print(response)"
   ]
  },
  {
   "cell_type": "code",
   "execution_count": 14,
   "metadata": {},
   "outputs": [
    {
     "data": {
      "text/plain": [
       "CompletedProcess(args=['echo.>test.txt'], returncode=0)"
      ]
     },
     "execution_count": 14,
     "metadata": {},
     "output_type": "execute_result"
    }
   ],
   "source": [
    "command = [response]\n",
    "subprocess.run(command, shell=True)"
   ]
  }
 ],
 "metadata": {
  "kernelspec": {
   "display_name": "dev",
   "language": "python",
   "name": "python3"
  },
  "language_info": {
   "codemirror_mode": {
    "name": "ipython",
    "version": 3
   },
   "file_extension": ".py",
   "mimetype": "text/x-python",
   "name": "python",
   "nbconvert_exporter": "python",
   "pygments_lexer": "ipython3",
   "version": "3.11.9"
  }
 },
 "nbformat": 4,
 "nbformat_minor": 2
}
