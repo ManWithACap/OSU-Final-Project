{
 "cells": [
  {
   "cell_type": "code",
   "execution_count": 8,
   "metadata": {},
   "outputs": [],
   "source": [
    "# Dependencies\n",
    "import os, cv2\n",
    "import numpy as np\n",
    "import tensorflow as tf\n",
    "from tensorflow.keras import layers, models\n",
    "from sklearn.model_selection import train_test_split"
   ]
  },
  {
   "cell_type": "code",
   "execution_count": 23,
   "metadata": {},
   "outputs": [
    {
     "name": "stdout",
     "output_type": "stream",
     "text": [
      "\n",
      "realTrain legnth: 50000\n",
      "fakeTrain length: 50000\n",
      "realTest length: 10000\n",
      "fakeTest length: 10000\n",
      "xTrain length: 100000\n",
      "yTrain length: 100000\n",
      "xTest length: 20000\n",
      "yTest length: 20000\n"
     ]
    }
   ],
   "source": [
    "# Read training and testing images into arrays\n",
    "realTrain = []\n",
    "fakeTrain = []\n",
    "realTest = []\n",
    "fakeTest = []\n",
    "\n",
    "for filename in os.listdir(\"./data/train/REAL\"):\n",
    "    imgPath = os.path.join(\"./data/train/REAL\", filename)\n",
    "    if os.path.isfile(imgPath):\n",
    "        img = cv2.imread(imgPath)\n",
    "        if img is not None:\n",
    "            realTrain.append(img)\n",
    "\n",
    "for filename in os.listdir(\"./data/train/FAKE\"):\n",
    "    imgPath = os.path.join(\"./data/train/FAKE\", filename)\n",
    "    if os.path.isfile(imgPath):\n",
    "        img = cv2.imread(imgPath)\n",
    "        if img is not None:\n",
    "            fakeTrain.append(img)\n",
    "\n",
    "for filename in os.listdir(\"./data/test/REAL\"):\n",
    "    imgPath = os.path.join(\"./data/test/REAL\", filename)\n",
    "    if os.path.isfile(imgPath):\n",
    "        img = cv2.imread(imgPath)\n",
    "        if img is not None:\n",
    "            realTest.append(img)\n",
    "\n",
    "for filename in os.listdir(\"./data/test/FAKE\"):\n",
    "    imgPath = os.path.join(\"./data/test/FAKE\", filename)\n",
    "    if os.path.isfile(imgPath):\n",
    "        img = cv2.imread(imgPath)\n",
    "        if img is not None:\n",
    "            fakeTest.append(img)\n",
    "\n",
    "realTrain = np.array(realTrain)\n",
    "fakeTrain = np.array(fakeTrain)\n",
    "realTest = np.array(realTest)\n",
    "fakeTest = np.array(fakeTest)\n",
    "\n",
    "xTrain = np.concatenate((realTrain, fakeTrain), axis=0)\n",
    "yTrain = np.concatenate((np.ones(len(realTrain)), np.zeros(len(fakeTrain))))\n",
    "xTest = np.concatenate((realTest, fakeTest), axis=0)\n",
    "yTest = np.concatenate((np.ones(len(realTest)), np.zeros(len(fakeTest))))\n",
    "\n",
    "print(f\"\"\"\n",
    "realTrain legnth: {len(realTrain)}\n",
    "fakeTrain length: {len(fakeTrain)}\n",
    "realTest length: {len(realTest)}\n",
    "fakeTest length: {len(fakeTest)}\n",
    "xTrain length: {len(xTrain)}\n",
    "yTrain length: {len(yTrain)}\n",
    "xTest length: {len(xTest)}\n",
    "yTest length: {len(yTest)}\"\"\")"
   ]
  },
  {
   "cell_type": "code",
   "execution_count": 32,
   "metadata": {},
   "outputs": [
    {
     "name": "stdout",
     "output_type": "stream",
     "text": [
      "Epoch 1/5\n",
      "\u001b[1m2188/2188\u001b[0m \u001b[32m━━━━━━━━━━━━━━━━━━━━\u001b[0m\u001b[37m\u001b[0m \u001b[1m12s\u001b[0m 5ms/step - accuracy: 0.7998 - loss: 0.6665 - val_accuracy: 0.8216 - val_loss: 0.3964\n",
      "Epoch 2/5\n",
      "\u001b[1m2188/2188\u001b[0m \u001b[32m━━━━━━━━━━━━━━━━━━━━\u001b[0m\u001b[37m\u001b[0m \u001b[1m11s\u001b[0m 5ms/step - accuracy: 0.8815 - loss: 0.2863 - val_accuracy: 0.8533 - val_loss: 0.3798\n",
      "Epoch 3/5\n",
      "\u001b[1m2188/2188\u001b[0m \u001b[32m━━━━━━━━━━━━━━━━━━━━\u001b[0m\u001b[37m\u001b[0m \u001b[1m11s\u001b[0m 5ms/step - accuracy: 0.8980 - loss: 0.2507 - val_accuracy: 0.6914 - val_loss: 0.7630\n",
      "Epoch 4/5\n",
      "\u001b[1m2188/2188\u001b[0m \u001b[32m━━━━━━━━━━━━━━━━━━━━\u001b[0m\u001b[37m\u001b[0m \u001b[1m11s\u001b[0m 5ms/step - accuracy: 0.9133 - loss: 0.2174 - val_accuracy: 0.8701 - val_loss: 0.2999\n",
      "Epoch 5/5\n",
      "\u001b[1m2188/2188\u001b[0m \u001b[32m━━━━━━━━━━━━━━━━━━━━\u001b[0m\u001b[37m\u001b[0m \u001b[1m11s\u001b[0m 5ms/step - accuracy: 0.9192 - loss: 0.2017 - val_accuracy: 0.8547 - val_loss: 0.3494\n",
      "\u001b[1m625/625\u001b[0m \u001b[32m━━━━━━━━━━━━━━━━━━━━\u001b[0m\u001b[37m\u001b[0m \u001b[1m1s\u001b[0m 2ms/step - accuracy: 0.9277 - loss: 0.1875\n",
      "\u001b[1m3125/3125\u001b[0m \u001b[32m━━━━━━━━━━━━━━━━━━━━\u001b[0m\u001b[37m\u001b[0m \u001b[1m5s\u001b[0m 2ms/step - accuracy: 0.9395 - loss: 0.1598\n",
      "Test Loss: 0.2536916136741638\n",
      "Test Accuracy: 0.897350013256073\n",
      "Train Loss: 0.22714518010616302\n",
      "Train Accuracy: 0.9086999893188477\n"
     ]
    }
   ],
   "source": [
    "# Train and test the model\n",
    "model = models.Sequential([\n",
    "    layers.Conv2D(32, (3, 3), activation='relu', input_shape=(32, 32, 3)),\n",
    "    layers.MaxPooling2D((2, 2)),\n",
    "    layers.Conv2D(64, (3, 3), activation='relu'),\n",
    "    layers.MaxPooling2D((2, 2)),\n",
    "    layers.Conv2D(64, (3, 3), activation='relu'),\n",
    "    layers.Flatten(),\n",
    "    layers.Dense(64, activation='relu'),\n",
    "    layers.Dense(1, activation='sigmoid')\n",
    "])\n",
    "\n",
    "model.compile(optimizer='adam', loss='binary_crossentropy', metrics=['accuracy'])\n",
    "\n",
    "model.fit(xTrain, yTrain, epochs=5, validation_split=0.3)\n",
    "\n",
    "testLoss, testAccuracy = model.evaluate(xTest, yTest)\n",
    "trainLoss, trainAccuracy = model.evaluate(xTrain, yTrain)\n",
    "print(f\"Test Loss: {testLoss}\\nTest Accuracy: {testAccuracy}\")\n",
    "print(f\"Train Loss: {trainLoss}\\nTrain Accuracy: {trainAccuracy}\")"
   ]
  }
 ],
 "metadata": {
  "kernelspec": {
   "display_name": "Python 3",
   "language": "python",
   "name": "python3"
  },
  "language_info": {
   "codemirror_mode": {
    "name": "ipython",
    "version": 3
   },
   "file_extension": ".py",
   "mimetype": "text/x-python",
   "name": "python",
   "nbconvert_exporter": "python",
   "pygments_lexer": "ipython3",
   "version": "3.11.9"
  }
 },
 "nbformat": 4,
 "nbformat_minor": 2
}
