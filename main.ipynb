{
 "cells": [
  {
   "cell_type": "code",
   "execution_count": 33,
   "metadata": {},
   "outputs": [],
   "source": [
    "# Dependencies\n",
    "import os, cv2\n",
    "import numpy as np\n",
    "import tensorflow as tf\n",
    "from tensorflow.keras import layers, models, preprocessing\n",
    "from sklearn.model_selection import train_test_split"
   ]
  },
  {
   "cell_type": "code",
   "execution_count": 23,
   "metadata": {},
   "outputs": [
    {
     "name": "stdout",
     "output_type": "stream",
     "text": [
      "\n",
      "realTrain legnth: 50000\n",
      "fakeTrain length: 50000\n",
      "realTest length: 10000\n",
      "fakeTest length: 10000\n",
      "xTrain length: 100000\n",
      "yTrain length: 100000\n",
      "xTest length: 20000\n",
      "yTest length: 20000\n"
     ]
    }
   ],
   "source": [
    "# Read training and testing images into arrays\n",
    "realTrain = []\n",
    "fakeTrain = []\n",
    "realTest = []\n",
    "fakeTest = []\n",
    "\n",
    "for filename in os.listdir(\"./data/train/REAL\"):\n",
    "    imgPath = os.path.join(\"./data/train/REAL\", filename)\n",
    "    if os.path.isfile(imgPath):\n",
    "        img = cv2.imread(imgPath)\n",
    "        if img is not None:\n",
    "            realTrain.append(img)\n",
    "\n",
    "for filename in os.listdir(\"./data/train/FAKE\"):\n",
    "    imgPath = os.path.join(\"./data/train/FAKE\", filename)\n",
    "    if os.path.isfile(imgPath):\n",
    "        img = cv2.imread(imgPath)\n",
    "        if img is not None:\n",
    "            fakeTrain.append(img)\n",
    "\n",
    "for filename in os.listdir(\"./data/test/REAL\"):\n",
    "    imgPath = os.path.join(\"./data/test/REAL\", filename)\n",
    "    if os.path.isfile(imgPath):\n",
    "        img = cv2.imread(imgPath)\n",
    "        if img is not None:\n",
    "            realTest.append(img)\n",
    "\n",
    "for filename in os.listdir(\"./data/test/FAKE\"):\n",
    "    imgPath = os.path.join(\"./data/test/FAKE\", filename)\n",
    "    if os.path.isfile(imgPath):\n",
    "        img = cv2.imread(imgPath)\n",
    "        if img is not None:\n",
    "            fakeTest.append(img)\n",
    "\n",
    "realTrain = np.array(realTrain)\n",
    "fakeTrain = np.array(fakeTrain)\n",
    "realTest = np.array(realTest)\n",
    "fakeTest = np.array(fakeTest)\n",
    "\n",
    "xTrain = np.concatenate((realTrain, fakeTrain), axis=0)\n",
    "yTrain = np.concatenate((np.ones(len(realTrain)), np.zeros(len(fakeTrain))))\n",
    "xTest = np.concatenate((realTest, fakeTest), axis=0)\n",
    "yTest = np.concatenate((np.ones(len(realTest)), np.zeros(len(fakeTest))))\n",
    "\n",
    "print(f\"\"\"\n",
    "realTrain legnth: {len(realTrain)}\n",
    "fakeTrain length: {len(fakeTrain)}\n",
    "realTest length: {len(realTest)}\n",
    "fakeTest length: {len(fakeTest)}\n",
    "xTrain length: {len(xTrain)}\n",
    "yTrain length: {len(yTrain)}\n",
    "xTest length: {len(xTest)}\n",
    "yTest length: {len(yTest)}\"\"\")"
   ]
  },
  {
   "cell_type": "code",
   "execution_count": 47,
   "metadata": {},
   "outputs": [
    {
     "name": "stdout",
     "output_type": "stream",
     "text": [
      "Epoch 1/20\n",
      "\u001b[1m2500/2500\u001b[0m \u001b[32m━━━━━━━━━━━━━━━━━━━━\u001b[0m\u001b[37m\u001b[0m \u001b[1m12s\u001b[0m 4ms/step - accuracy: 0.7947 - loss: 0.7885 - val_accuracy: 0.8278 - val_loss: 0.3809\n",
      "Epoch 2/20\n",
      "\u001b[1m2500/2500\u001b[0m \u001b[32m━━━━━━━━━━━━━━━━━━━━\u001b[0m\u001b[37m\u001b[0m \u001b[1m12s\u001b[0m 5ms/step - accuracy: 0.8877 - loss: 0.2737 - val_accuracy: 0.8624 - val_loss: 0.3299\n",
      "Epoch 3/20\n",
      "\u001b[1m2500/2500\u001b[0m \u001b[32m━━━━━━━━━━━━━━━━━━━━\u001b[0m\u001b[37m\u001b[0m \u001b[1m12s\u001b[0m 5ms/step - accuracy: 0.9013 - loss: 0.2443 - val_accuracy: 0.8594 - val_loss: 0.3289\n",
      "Epoch 4/20\n",
      "\u001b[1m2500/2500\u001b[0m \u001b[32m━━━━━━━━━━━━━━━━━━━━\u001b[0m\u001b[37m\u001b[0m \u001b[1m12s\u001b[0m 5ms/step - accuracy: 0.9130 - loss: 0.2203 - val_accuracy: 0.9732 - val_loss: 0.0807\n",
      "Epoch 5/20\n",
      "\u001b[1m2500/2500\u001b[0m \u001b[32m━━━━━━━━━━━━━━━━━━━━\u001b[0m\u001b[37m\u001b[0m \u001b[1m11s\u001b[0m 4ms/step - accuracy: 0.9179 - loss: 0.2038 - val_accuracy: 0.9103 - val_loss: 0.2243\n",
      "Epoch 6/20\n",
      "\u001b[1m2500/2500\u001b[0m \u001b[32m━━━━━━━━━━━━━━━━━━━━\u001b[0m\u001b[37m\u001b[0m \u001b[1m11s\u001b[0m 4ms/step - accuracy: 0.9237 - loss: 0.1920 - val_accuracy: 0.9047 - val_loss: 0.2370\n",
      "Epoch 7/20\n",
      "\u001b[1m2500/2500\u001b[0m \u001b[32m━━━━━━━━━━━━━━━━━━━━\u001b[0m\u001b[37m\u001b[0m \u001b[1m11s\u001b[0m 4ms/step - accuracy: 0.9306 - loss: 0.1751 - val_accuracy: 0.9208 - val_loss: 0.1985\n",
      "Epoch 8/20\n",
      "\u001b[1m2500/2500\u001b[0m \u001b[32m━━━━━━━━━━━━━━━━━━━━\u001b[0m\u001b[37m\u001b[0m \u001b[1m11s\u001b[0m 4ms/step - accuracy: 0.9348 - loss: 0.1679 - val_accuracy: 0.7885 - val_loss: 0.5181\n",
      "Epoch 9/20\n",
      "\u001b[1m2500/2500\u001b[0m \u001b[32m━━━━━━━━━━━━━━━━━━━━\u001b[0m\u001b[37m\u001b[0m \u001b[1m11s\u001b[0m 4ms/step - accuracy: 0.9380 - loss: 0.1581 - val_accuracy: 0.8969 - val_loss: 0.2672\n",
      "Epoch 10/20\n",
      "\u001b[1m2500/2500\u001b[0m \u001b[32m━━━━━━━━━━━━━━━━━━━━\u001b[0m\u001b[37m\u001b[0m \u001b[1m11s\u001b[0m 4ms/step - accuracy: 0.9425 - loss: 0.1456 - val_accuracy: 0.8483 - val_loss: 0.3748\n",
      "Epoch 11/20\n",
      "\u001b[1m2500/2500\u001b[0m \u001b[32m━━━━━━━━━━━━━━━━━━━━\u001b[0m\u001b[37m\u001b[0m \u001b[1m11s\u001b[0m 4ms/step - accuracy: 0.9451 - loss: 0.1404 - val_accuracy: 0.8393 - val_loss: 0.4102\n",
      "Epoch 12/20\n",
      "\u001b[1m2500/2500\u001b[0m \u001b[32m━━━━━━━━━━━━━━━━━━━━\u001b[0m\u001b[37m\u001b[0m \u001b[1m11s\u001b[0m 4ms/step - accuracy: 0.9484 - loss: 0.1342 - val_accuracy: 0.9094 - val_loss: 0.2186\n",
      "Epoch 13/20\n",
      "\u001b[1m2500/2500\u001b[0m \u001b[32m━━━━━━━━━━━━━━━━━━━━\u001b[0m\u001b[37m\u001b[0m \u001b[1m11s\u001b[0m 4ms/step - accuracy: 0.9516 - loss: 0.1245 - val_accuracy: 0.8827 - val_loss: 0.3005\n",
      "Epoch 14/20\n",
      "\u001b[1m2500/2500\u001b[0m \u001b[32m━━━━━━━━━━━━━━━━━━━━\u001b[0m\u001b[37m\u001b[0m \u001b[1m11s\u001b[0m 4ms/step - accuracy: 0.9545 - loss: 0.1171 - val_accuracy: 0.8748 - val_loss: 0.3406\n",
      "Epoch 15/20\n",
      "\u001b[1m2500/2500\u001b[0m \u001b[32m━━━━━━━━━━━━━━━━━━━━\u001b[0m\u001b[37m\u001b[0m \u001b[1m11s\u001b[0m 4ms/step - accuracy: 0.9561 - loss: 0.1147 - val_accuracy: 0.9069 - val_loss: 0.2715\n",
      "Epoch 16/20\n",
      "\u001b[1m2500/2500\u001b[0m \u001b[32m━━━━━━━━━━━━━━━━━━━━\u001b[0m\u001b[37m\u001b[0m \u001b[1m11s\u001b[0m 4ms/step - accuracy: 0.9572 - loss: 0.1097 - val_accuracy: 0.9222 - val_loss: 0.1995\n",
      "Epoch 17/20\n",
      "\u001b[1m2500/2500\u001b[0m \u001b[32m━━━━━━━━━━━━━━━━━━━━\u001b[0m\u001b[37m\u001b[0m \u001b[1m11s\u001b[0m 4ms/step - accuracy: 0.9599 - loss: 0.1027 - val_accuracy: 0.8989 - val_loss: 0.2298\n",
      "Epoch 18/20\n",
      "\u001b[1m2500/2500\u001b[0m \u001b[32m━━━━━━━━━━━━━━━━━━━━\u001b[0m\u001b[37m\u001b[0m \u001b[1m11s\u001b[0m 4ms/step - accuracy: 0.9626 - loss: 0.0991 - val_accuracy: 0.8542 - val_loss: 0.4602\n",
      "Epoch 19/20\n",
      "\u001b[1m2500/2500\u001b[0m \u001b[32m━━━━━━━━━━━━━━━━━━━━\u001b[0m\u001b[37m\u001b[0m \u001b[1m11s\u001b[0m 5ms/step - accuracy: 0.9645 - loss: 0.0945 - val_accuracy: 0.8583 - val_loss: 0.3704\n",
      "Epoch 20/20\n",
      "\u001b[1m2500/2500\u001b[0m \u001b[32m━━━━━━━━━━━━━━━━━━━━\u001b[0m\u001b[37m\u001b[0m \u001b[1m11s\u001b[0m 5ms/step - accuracy: 0.9633 - loss: 0.0989 - val_accuracy: 0.9259 - val_loss: 0.1952\n",
      "\u001b[1m625/625\u001b[0m \u001b[32m━━━━━━━━━━━━━━━━━━━━\u001b[0m\u001b[37m\u001b[0m \u001b[1m1s\u001b[0m 2ms/step - accuracy: 0.9101 - loss: 0.3841\n",
      "\u001b[1m3125/3125\u001b[0m \u001b[32m━━━━━━━━━━━━━━━━━━━━\u001b[0m\u001b[37m\u001b[0m \u001b[1m5s\u001b[0m 2ms/step - accuracy: 0.9605 - loss: 0.1118\n",
      "Test Loss: 0.3072105646133423\n",
      "Test Accuracy: 0.9172999858856201\n",
      "Train Loss: 0.114455945789814\n",
      "Train Accuracy: 0.9576600193977356\n"
     ]
    }
   ],
   "source": [
    "# Train and test the model\n",
    "model = models.Sequential([\n",
    "    layers.Conv2D(32, (3, 3), activation='relu', input_shape=(32, 32, 3)),\n",
    "    layers.MaxPooling2D((2, 2)),\n",
    "    layers.Conv2D(64, (3, 3), activation='relu'),\n",
    "    layers.MaxPooling2D((2, 2)),\n",
    "    layers.Conv2D(128, (3, 3), activation='relu'),\n",
    "    layers.Flatten(),\n",
    "    layers.Dense(64, activation='relu'),\n",
    "    layers.Dense(1, activation='sigmoid')\n",
    "])\n",
    "\n",
    "model.compile(optimizer='adam', loss='binary_crossentropy', metrics=['accuracy'])\n",
    "\n",
    "model.fit(xTrain, yTrain, epochs=20, validation_split=0.2)\n",
    "\n",
    "testLoss, testAccuracy = model.evaluate(xTest, yTest)\n",
    "trainLoss, trainAccuracy = model.evaluate(xTrain, yTrain)\n",
    "print(f\"Test Loss: {testLoss}\\nTest Accuracy: {testAccuracy}\")\n",
    "print(f\"Train Loss: {trainLoss}\\nTrain Accuracy: {trainAccuracy}\")"
   ]
  },
  {
   "cell_type": "code",
   "execution_count": 54,
   "metadata": {},
   "outputs": [],
   "source": [
    "# Save and export the model\n",
    "model.save(\"img_classifier.keras\")"
   ]
  }
 ],
 "metadata": {
  "kernelspec": {
   "display_name": "Python 3",
   "language": "python",
   "name": "python3"
  },
  "language_info": {
   "codemirror_mode": {
    "name": "ipython",
    "version": 3
   },
   "file_extension": ".py",
   "mimetype": "text/x-python",
   "name": "python",
   "nbconvert_exporter": "python",
   "pygments_lexer": "ipython3",
   "version": "3.11.9"
  }
 },
 "nbformat": 4,
 "nbformat_minor": 2
}
